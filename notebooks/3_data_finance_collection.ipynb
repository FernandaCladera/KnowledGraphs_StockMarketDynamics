{
 "cells": [
  {
   "cell_type": "code",
   "execution_count": 1,
   "metadata": {},
   "outputs": [
    {
     "name": "stderr",
     "output_type": "stream",
     "text": [
      "/Users/fernandacladeramelgar/Documents/2_Projects/00_KGFP/venv/lib/python3.13/site-packages/IPython/core/interactiveshell.py:3577: LangChainDeprecationWarning: As of langchain-core 0.3.0, LangChain uses pydantic v2 internally. The langchain_core.pydantic_v1 module was a compatibility shim for pydantic v1, and should no longer be used. Please update the code to import from Pydantic directly.\n",
      "\n",
      "For example, replace imports like: `from langchain_core.pydantic_v1 import BaseModel`\n",
      "with: `from pydantic import BaseModel`\n",
      "or the v1 compatibility namespace if you are working in a code base that has not been fully upgraded to pydantic 2 yet. \tfrom pydantic.v1 import BaseModel\n",
      "\n",
      "  exec(code_obj, self.user_global_ns, self.user_ns)\n"
     ]
    }
   ],
   "source": [
    "import os\n",
    "from dotenv import load_dotenv\n",
    "from langchain_community.utilities.financial_datasets import FinancialDatasetsAPIWrapper\n",
    "from langchain_community.agent_toolkits.financial_datasets.toolkit import FinancialDatasetsToolkit\n",
    "from langchain_openai import ChatOpenAI\n",
    "from langchain.graphs import Neo4jGraph\n",
    "from langchain_core.prompts import ChatPromptTemplate\n",
    "from langchain_core.runnables import RunnableParallel, RunnableLambda\n",
    "from langchain_core.pydantic_v1 import BaseModel, Field\n",
    "from langchain.agents import create_tool_calling_agent, AgentExecutor\n",
    "from langchain.embeddings.openai import OpenAIEmbeddings\n",
    "from langchain.vectorstores.neo4j_vector import Neo4jVector"
   ]
  },
  {
   "cell_type": "code",
   "execution_count": 2,
   "metadata": {},
   "outputs": [],
   "source": [
    "# Load environment variables\n",
    "load_dotenv()\n",
    "os.environ[\"FINANCIAL_DATASETS_API_KEY\"] = os.getenv(\"FINANCIAL_DATASETS_API_KEY\")\n",
    "os.environ[\"NEO4J_URI\"] = os.getenv(\"NEO4J_URI\")\n",
    "os.environ[\"NEO4J_USERNAME\"] = os.getenv(\"NEO4J_USERNAME\")\n",
    "os.environ[\"NEO4J_PASSWORD\"] = os.getenv(\"NEO4J_PASSWORD\")\n",
    "os.environ[\"OPENAI_API_KEY\"] = os.getenv(\"OPENAI_API_KEY\")"
   ]
  },
  {
   "cell_type": "code",
   "execution_count": 3,
   "metadata": {},
   "outputs": [],
   "source": [
    "# Initialize API and Toolkit\n",
    "api_wrapper = FinancialDatasetsAPIWrapper(financial_datasets_api_key=os.getenv(\"FINANCIAL_DATASETS_API_KEY\"))\n",
    "toolkit = FinancialDatasetsToolkit(api_wrapper=api_wrapper)"
   ]
  },
  {
   "cell_type": "code",
   "execution_count": 4,
   "metadata": {},
   "outputs": [
    {
     "name": "stderr",
     "output_type": "stream",
     "text": [
      "/var/folders/_z/vq1q1pzj639b28jbhlxzd0zw0000gn/T/ipykernel_16130/3669920713.py:2: LangChainDeprecationWarning: The class `Neo4jGraph` was deprecated in LangChain 0.3.8 and will be removed in 1.0. An updated version of the class exists in the :class:`~langchain-neo4j package and should be used instead. To use it run `pip install -U :class:`~langchain-neo4j` and import as `from :class:`~langchain_neo4j import Neo4jGraph``.\n",
      "  graph = Neo4jGraph(\n"
     ]
    }
   ],
   "source": [
    "# Neo4j Graph Setup\n",
    "graph = Neo4jGraph(\n",
    "    url=os.getenv(\"NEO4J_URI\"),\n",
    "    username=os.getenv(\"NEO4J_USERNAME\"),\n",
    "    password=os.getenv(\"NEO4J_PASSWORD\"),\n",
    "    enhanced_schema=False\n",
    ")"
   ]
  },
  {
   "cell_type": "code",
   "execution_count": 5,
   "metadata": {},
   "outputs": [],
   "source": [
    "# System Prompt for LangChain Model\n",
    "system_prompt = \"\"\"\n",
    "You are an advanced financial analysis AI assistant integrated with APIs and Neo4j Knowledge Graphs.\n",
    "\n",
    "Capabilities:\n",
    "1. Retrieve financial data (e.g., balance sheets, income statements, cash flows).\n",
    "2. Use Neo4j to analyze relationships and correlations.\n",
    "3. Combine multi-source data to provide actionable insights.\n",
    "\n",
    "Always explain your reasoning, specify data sources, and provide concise, actionable insights.\n",
    "\"\"\""
   ]
  },
  {
   "cell_type": "code",
   "execution_count": 6,
   "metadata": {},
   "outputs": [],
   "source": [
    "# Initialize LLM Model and Prompt\n",
    "model = ChatOpenAI(model=\"gpt-4o\")\n",
    "prompt = ChatPromptTemplate.from_messages(\n",
    "    [\n",
    "        (\"system\", system_prompt),\n",
    "        (\"human\", \"{input}\"),\n",
    "        (\"placeholder\", \"{agent_scratchpad}\"),\n",
    "    ]\n",
    ")"
   ]
  },
  {
   "cell_type": "code",
   "execution_count": 7,
   "metadata": {},
   "outputs": [],
   "source": [
    "# Query Executor Function\n",
    "def query_executor(input_data):\n",
    "    source = input_data.get(\"source\", \"\")\n",
    "    ticker = input_data.get(\"ticker\", \"\")\n",
    "\n",
    "    if \"financial_api\" in source:\n",
    "        return api_wrapper.get_income_statements(ticker=ticker)\n",
    "    elif \"neo4j\" in source:\n",
    "        return graph.query(f\"MATCH (n:Stock {{ticker: '{ticker}'}}) RETURN n\")\n",
    "    else:\n",
    "        return {\"error\": \"Unsupported source\"}"
   ]
  },
  {
   "cell_type": "code",
   "execution_count": 8,
   "metadata": {},
   "outputs": [],
   "source": [
    "# Financial Metrics Schema\n",
    "class FinancialMetrics(BaseModel):\n",
    "    revenue: str = Field(..., description=\"The company's revenue.\")\n",
    "    debt: str = Field(..., description=\"The company's total debt.\")\n",
    "\n",
    "# Workflow for Parallel Data Retrieval\n",
    "financial_workflow = RunnableParallel(\n",
    "    {\n",
    "        \"api_data\": RunnableLambda(lambda x: api_wrapper.get_balance_sheets(ticker=x[\"ticker\"])),\n",
    "        \"graph_data\": RunnableLambda(lambda x: graph.query(f\"MATCH (n:Stock {{ticker: '{x['ticker']}'}}) RETURN n\")),\n",
    "    }\n",
    ")"
   ]
  },
  {
   "cell_type": "code",
   "execution_count": 9,
   "metadata": {},
   "outputs": [
    {
     "name": "stdout",
     "output_type": "stream",
     "text": [
      "{'input': \"What was AAPL's revenue in 2023 and its debt in Q1 2024?\", 'agent_scratchpad': '', 'output': \"In 2023, Apple's (AAPL) revenue was $391.035 billion USD. In Q1 2024, Apple's total debt was $106.629 billion USD. \\n\\nThese figures provide insight into Apple's financial performance and leverage during this period, indicating both its revenue-generating capability and its level of indebtedness.\"}\n"
     ]
    }
   ],
   "source": [
    "# LangChain Agent Setup\n",
    "agent = create_tool_calling_agent(model, toolkit.get_tools(), prompt)\n",
    "agent_executor = AgentExecutor(agent=agent, tools=toolkit.get_tools())\n",
    "\n",
    "# Example Query\n",
    "query = \"What was AAPL's revenue in 2023 and its debt in Q1 2024?\"\n",
    "input_data = {\n",
    "    \"input\": query,\n",
    "    \"agent_scratchpad\": \"\"\n",
    "}\n",
    "response = agent_executor.invoke(input_data)\n",
    "print(response)"
   ]
  },
  {
   "cell_type": "code",
   "execution_count": 10,
   "metadata": {},
   "outputs": [
    {
     "name": "stderr",
     "output_type": "stream",
     "text": [
      "/var/folders/_z/vq1q1pzj639b28jbhlxzd0zw0000gn/T/ipykernel_16130/2126654436.py:2: LangChainDeprecationWarning: The class `OpenAIEmbeddings` was deprecated in LangChain 0.0.9 and will be removed in 1.0. An updated version of the class exists in the :class:`~langchain-openai package and should be used instead. To use it run `pip install -U :class:`~langchain-openai` and import as `from :class:`~langchain_openai import OpenAIEmbeddings``.\n",
      "  embedding_model = OpenAIEmbeddings(openai_api_key=os.getenv(\"OPENAI_API_KEY\"))\n",
      "Received notification from DBMS server: {severity: WARNING} {code: Neo.ClientNotification.Statement.FeatureDeprecationWarning} {category: DEPRECATION} {title: This feature is deprecated and will be removed in future versions.} {description: CALL subquery without a variable scope clause is now deprecated. Use CALL () { ... }} {position: line: 1, column: 1, offset: 0} for query: \"CALL { CALL db.index.vector.queryNodes($index, $k, $embedding) YIELD node, score WITH collect({node:node, score:score}) AS nodes, max(score) AS max UNWIND nodes AS n RETURN n.node AS node, (n.score / max) AS score UNION CALL db.index.fulltext.queryNodes($keyword_index, $query, {limit: $k}) YIELD node, score WITH collect({node:node, score:score}) AS nodes, max(score) AS max UNWIND nodes AS n RETURN n.node AS node, (n.score / max) AS score } WITH node, max(score) AS score ORDER BY score DESC LIMIT $k RETURN reduce(str='', k IN ['description'] | str + '\\\\n' + k + ': ' + coalesce(node[k], '')) AS text, node {.*, `embedding`: Null, id: Null, `description`: Null} AS metadata, score\"\n"
     ]
    },
    {
     "name": "stdout",
     "output_type": "stream",
     "text": [
      "[]\n"
     ]
    }
   ],
   "source": [
    "# Embedding-Based Similarity Search with Neo4j\n",
    "embedding_model = OpenAIEmbeddings(openai_api_key=os.getenv(\"OPENAI_API_KEY\"))\n",
    "vector_index = Neo4jVector.from_existing_graph(\n",
    "    embedding=embedding_model,\n",
    "    search_type=\"hybrid\",\n",
    "    node_label=\"Stock\",\n",
    "    text_node_properties=[\"description\"],\n",
    "    embedding_node_property=\"embedding\"\n",
    ")\n",
    "search_results = vector_index.similarity_search(\"Find tech companies with high revenue.\")\n",
    "print(search_results)"
   ]
  }
 ],
 "metadata": {
  "kernelspec": {
   "display_name": "venv",
   "language": "python",
   "name": "python3"
  },
  "language_info": {
   "codemirror_mode": {
    "name": "ipython",
    "version": 3
   },
   "file_extension": ".py",
   "mimetype": "text/x-python",
   "name": "python",
   "nbconvert_exporter": "python",
   "pygments_lexer": "ipython3",
   "version": "3.13.1"
  }
 },
 "nbformat": 4,
 "nbformat_minor": 2
}
