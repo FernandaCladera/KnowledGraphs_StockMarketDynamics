{
 "cells": [
  {
   "cell_type": "markdown",
   "metadata": {},
   "source": [
    "# 2. **Knowledge Graph**"
   ]
  },
  {
   "cell_type": "code",
   "execution_count": 75,
   "metadata": {},
   "outputs": [],
   "source": [
    "import pandas as pd\n",
    "from tqdm import tqdm\n",
    "from langchain_community.graphs import Neo4jGraph\n",
    "from langchain_openai import ChatOpenAI\n",
    "from langchain_core.prompts import ChatPromptTemplate\n",
    "from langchain.agents import create_tool_calling_agent, AgentExecutor\n",
    "from langchain.tools import BaseTool\n",
    "import yfinance as yf\n",
    "from dotenv import load_dotenv\n",
    "import os\n",
    "from typing import Any"
   ]
  },
  {
   "cell_type": "code",
   "execution_count": 76,
   "metadata": {},
   "outputs": [],
   "source": [
    "load_dotenv()\n",
    "os.environ[\"OPENAI_API_KEY\"] = os.getenv(\"OPENAI_API_KEY\")\n",
    "os.environ[\"NEO4J_URI\"] = \"neo4j+s://53d608e5.databases.neo4j.io\"\n",
    "os.environ[\"NEO4J_USERNAME\"] = \"neo4j\"\n",
    "os.environ[\"NEO4J_PASSWORD\"] = \"NSdlyOMl34oT6HilZL1wRmBP4nQde0lWopDwotBl9Q0\"\n",
    "graph = Neo4jGraph(\n",
    "    url=os.environ[\"NEO4J_URI\"],\n",
    "    username=os.environ[\"NEO4J_USERNAME\"],\n",
    "    password=os.environ[\"NEO4J_PASSWORD\"],\n",
    ")"
   ]
  },
  {
   "cell_type": "code",
   "execution_count": 77,
   "metadata": {},
   "outputs": [],
   "source": [
    "stocks_complete = pd.read_csv(\"../data/stocks_completed.csv\")\n",
    "rolling_corr_matrices = pd.read_csv(\"../data/rolling_corr_matrices.csv\")\n",
    "sector_means = pd.read_csv(\"../data/sector_means.csv\")\n",
    "sector_volatility = pd.read_csv(\"../data/sector_volatility.csv\")\n",
    "sector_returns = pd.read_csv(\"../data/sector_returns.csv\")\n",
    "rolling_sector_corr = pd.read_csv(\"../data/rolling_sector_corr.csv\")"
   ]
  },
  {
   "cell_type": "code",
   "execution_count": 78,
   "metadata": {},
   "outputs": [
    {
     "name": "stdout",
     "output_type": "stream",
     "text": [
      "Cleared the Neo4j database.\n"
     ]
    }
   ],
   "source": [
    "#If we reset clean will affect the langchain.\n",
    "#graph.run(\"MATCH (n) DETACH DELETE n\")\n",
    "#print(\"Cleared the Neo4j database.\")"
   ]
  },
  {
   "cell_type": "code",
   "execution_count": 79,
   "metadata": {},
   "outputs": [
    {
     "data": {
      "text/plain": [
       "Index(['Ticker', 'Name', 'Sector', 'marketCap', 'trailingPE', 'forwardPE',\n",
       "       'priceToBook', 'trailingEps', 'forwardEps', 'bookValue', 'payoutRatio',\n",
       "       'beta', 'fiveYearAvgDividendYield', '52WeekChange', 'averageVolume',\n",
       "       'enterpriseToRevenue', 'profitMargins', 'Close', 'Volume', 'NormClose',\n",
       "       'DailyLogReturn', 'ALR1M', 'ALR3M', 'Volatility', 'RSI', 'MACD',\n",
       "       'HighLowRange'],\n",
       "      dtype='object')"
      ]
     },
     "execution_count": 79,
     "metadata": {},
     "output_type": "execute_result"
    }
   ],
   "source": [
    "stocks_complete.columns"
   ]
  },
  {
   "cell_type": "code",
   "execution_count": 80,
   "metadata": {},
   "outputs": [
    {
     "name": "stderr",
     "output_type": "stream",
     "text": [
      "Adding Sector Nodes: 100%|██████████| 11/11 [00:00<00:00, 34.75it/s]"
     ]
    },
    {
     "name": "stdout",
     "output_type": "stream",
     "text": [
      "Total Sector Nodes: 11\n",
      "Sample Sector Nodes: [{'s.name': 'Information Technology'}, {'s.name': 'Health Care'}, {'s.name': 'Financials'}, {'s.name': 'Real Estate'}, {'s.name': 'Consumer Discretionary'}]\n"
     ]
    },
    {
     "name": "stderr",
     "output_type": "stream",
     "text": [
      "\n"
     ]
    }
   ],
   "source": [
    "system_prompt = \"\"\"\n",
    "You are a financial AI assistant capable of integrating Neo4j graph insights with real-time financial data. \n",
    "You can:\n",
    "1. Retrieve data from Neo4j (e.g., relationships between stocks and sectors).\n",
    "2. Update the graph with real-time financial data from APIs like yfinance.\n",
    "3. Answer complex financial queries by combining historical and real-time data.\n",
    "\"\"\""
   ]
  },
  {
   "cell_type": "code",
   "execution_count": 81,
   "metadata": {},
   "outputs": [
    {
     "name": "stderr",
     "output_type": "stream",
     "text": [
      "Adding Stock Nodes: 119500it [03:13, 617.01it/s]\n"
     ]
    }
   ],
   "source": [
    "prompt = ChatPromptTemplate.from_messages(\n",
    "    [\n",
    "        (\"system\", system_prompt),\n",
    "        (\"human\", \"{input}\"),\n",
    "        (\"placeholder\", \"{agent_scratchpad}\"),\n",
    "    ]\n",
    ")"
   ]
  },
  {
   "cell_type": "code",
   "execution_count": 82,
   "metadata": {},
   "outputs": [
    {
     "data": {
      "text/plain": [
       "Index(['TimeIndex', 'Ticker1', 'Ticker2', 'Correlation'], dtype='object')"
      ]
     },
     "execution_count": 82,
     "metadata": {},
     "output_type": "execute_result"
    }
   ],
   "source": [
    "class Neo4jGraphTool(BaseTool):\n",
    "    name: str = \"neo4j_graph\"  # Name of the tool\n",
    "    description: str = \"A tool for querying and updating the Neo4j graph.\"  # Description of the tool\n",
    "    graph: Any  # Declare `graph` as a field\n",
    "\n",
    "    def __init__(self, graph: Any):\n",
    "        super().__init__(graph=graph)\n",
    "\n",
    "    def _run(self, query: str) -> str:\n",
    "        \"\"\"\n",
    "        Execute a Cypher query on the Neo4j graph and return the result.\n",
    "        \"\"\"\n",
    "        try:\n",
    "            result = self.graph.query(query)\n",
    "            return str(result)\n",
    "        except Exception as e:\n",
    "            return f\"Error executing query: {str(e)}\"\n",
    "\n",
    "    async def _arun(self, query: str) -> str:\n",
    "        \"\"\"Asynchronous version (required by LangChain).\"\"\"\n",
    "        raise NotImplementedError(\"Async not supported for this tool.\")"
   ]
  },
  {
   "cell_type": "code",
   "execution_count": 83,
   "metadata": {},
   "outputs": [
    {
     "name": "stderr",
     "output_type": "stream",
     "text": [
      "Preparing Correlation Relationships: 410752it [00:09, 45097.42it/s]\n",
      "Adding Correlation Relationships: 100%|██████████| 410752/410752 [55:29<00:00, 123.37it/s]   "
     ]
    },
    {
     "name": "stdout",
     "output_type": "stream",
     "text": [
      "Graph database successfully updated.\n"
     ]
    },
    {
     "name": "stderr",
     "output_type": "stream",
     "text": [
      "\n"
     ]
    }
   ],
   "source": [
    "neo4j_tool = Neo4jGraphTool(graph=graph)"
   ]
  },
  {
   "cell_type": "code",
   "execution_count": 84,
   "metadata": {},
   "outputs": [
    {
     "name": "stderr",
     "output_type": "stream",
     "text": [
      "Adding Sector Correlation Relationships: 126060it [19:45, 106.37it/s]"
     ]
    },
    {
     "name": "stdout",
     "output_type": "stream",
     "text": [
      "Graph creation complete!\n"
     ]
    },
    {
     "name": "stderr",
     "output_type": "stream",
     "text": [
      "\n"
     ]
    }
   ],
   "source": [
    "model = ChatOpenAI(model=\"gpt-4o\")\n",
    "agent = create_tool_calling_agent(model, [neo4j_tool], prompt)\n",
    "agent_executor = AgentExecutor(agent=agent, tools=[neo4j_tool])"
   ]
  },
  {
   "cell_type": "code",
   "execution_count": null,
   "metadata": {},
   "outputs": [],
   "source": [
    "def add_relationships(graph, relationships, start_label, end_label, relationship_type, properties=None):\n",
    "    \"\"\"\n",
    "    Adds relationships between nodes in Neo4j using Cypher.\n",
    "\n",
    "    Parameters:\n",
    "        graph: Neo4jGraph instance\n",
    "        relationships: list of tuples [(start_node_id, end_node_id, ...)]\n",
    "        start_label: Label for the start node (e.g., 'Stock')\n",
    "        end_label: Label for the end node (e.g., 'Sector')\n",
    "        relationship_type: Type of relationship (e.g., 'BELONGS_TO')\n",
    "        properties: List of property names to include in the relationship\n",
    "    \"\"\"\n",
    "    for rel in tqdm(relationships, desc=f\"Adding {relationship_type} Relationships\"):\n",
    "        start_id, end_id, *rel_props = rel\n",
    "        property_string = \"\"\n",
    "        if properties and rel_props:\n",
    "            # Generate Cypher property string dynamically\n",
    "            property_string = \", \".join([f\"{prop}: {value}\" for prop, value in zip(properties, rel_props)])\n",
    "            property_string = f\"{{ {property_string} }}\"\n",
    "        \n",
    "        query = f\"\"\"\n",
    "        MATCH (start:{start_label} {{name: '{start_id}'}}), (end:{end_label} {{name: '{end_id}'}})\n",
    "        MERGE (start)-[r:{relationship_type} {property_string}]->(end)\n",
    "        \"\"\"\n",
    "        graph.query(query)"
   ]
  },
  {
   "cell_type": "code",
   "execution_count": null,
   "metadata": {},
   "outputs": [],
   "source": [
    "print(\"Adding Sector Nodes...\")\n",
    "sectors = stocks_complete[\"Sector\"].unique()\n",
    "for sector in tqdm(sectors, desc=\"Adding Sector Nodes\"):\n",
    "    query = f\"MERGE (:Sector {{name: '{sector}'}})\"\n",
    "    graph.query(query)"
   ]
  },
  {
   "cell_type": "code",
   "execution_count": null,
   "metadata": {},
   "outputs": [],
   "source": [
    "print(\"Adding Stock Nodes...\")\n",
    "\n",
    "# Prepare data for batch processing with only key variables\n",
    "stock_data = [\n",
    "    {\n",
    "        \"Ticker\": row[\"Ticker\"],\n",
    "        \"Sector\": row[\"Sector\"],\n",
    "        \"MarketCap\": row[\"marketCap\"],  # Key metric for company size\n",
    "        \"TrailingPE\": row[\"trailingPE\"],  # Valuation metric\n",
    "        \"RSI\": row[\"RSI\"],  # Momentum indicator\n",
    "    }\n",
    "    for _, row in stocks_complete.iterrows()\n",
    "]\n",
    "\n",
    "batch_size = 100  # Adjust batch size for better performance\n",
    "batches = [stock_data[i:i + batch_size] for i in range(0, len(stock_data), batch_size)]\n",
    "\n",
    "for batch in tqdm(batches, desc=\"Adding Stock Nodes in Batches\"):\n",
    "    query = \"\"\"\n",
    "    UNWIND $batch AS row\n",
    "    MERGE (s:Stock {name: row.Ticker})\n",
    "    SET s += {\n",
    "        sector: row.Sector,\n",
    "        marketCap: row.MarketCap, \n",
    "        trailingPE: row.TrailingPE, \n",
    "        RSI: row.RSI\n",
    "    }\n",
    "    WITH s, row\n",
    "    MATCH (sec:Sector {name: row.Sector})\n",
    "    MERGE (s)-[:BELONGS_TO]->(sec)\n",
    "    \"\"\"\n",
    "    graph.query(query, parameters={\"batch\": batch})"
   ]
  },
  {
   "cell_type": "code",
   "execution_count": null,
   "metadata": {},
   "outputs": [],
   "source": [
    "print(\"Adding Correlation Relationships...\")\n",
    "correlations = rolling_corr_matrices[rolling_corr_matrices[\"Correlation\"] > 0.8]\n",
    "\n",
    "# Prepare data for relationships\n",
    "correlation_data = [\n",
    "    {\n",
    "        \"Ticker1\": row[\"Ticker1\"],\n",
    "        \"Ticker2\": row[\"Ticker2\"],\n",
    "        \"Correlation\": row[\"Correlation\"]\n",
    "    }\n",
    "    for _, row in correlations.iterrows()\n",
    "]\n",
    "\n",
    "batch_size = 100  # Adjust batch size\n",
    "correlation_batches = [\n",
    "    correlation_data[i:i + batch_size]\n",
    "    for i in range(0, len(correlation_data), batch_size)\n",
    "]\n",
    "\n",
    "for batch in tqdm(correlation_batches, desc=\"Adding Correlation Relationships\"):\n",
    "    query = \"\"\"\n",
    "    UNWIND $relationships AS rel\n",
    "    MATCH (s1:Stock {name: rel['Ticker1']}), (s2:Stock {name: rel['Ticker2']})\n",
    "    MERGE (s1)-[:CORRELATES_WITH {correlation: rel['Correlation']}]->(s2)\n",
    "    \"\"\"\n",
    "    graph.query(query, {\"relationships\": batch})"
   ]
  },
  {
   "cell_type": "code",
   "execution_count": null,
   "metadata": {},
   "outputs": [],
   "source": [
    "print(\"Adding Sector Correlation Relationships...\")\n",
    "\n",
    "# Filter relationships by correlation threshold\n",
    "correlation_threshold = 0.85\n",
    "filtered_corr = rolling_sector_corr[rolling_sector_corr[\"Correlation\"] >= correlation_threshold]\n",
    "\n",
    "sector_data = [\n",
    "    {\n",
    "        \"Sector1\": row[\"Sector1\"],\n",
    "        \"Sector2\": row[\"Sector2\"],\n",
    "        \"Correlation\": row[\"Correlation\"]\n",
    "    }\n",
    "    for _, row in filtered_corr.iterrows()\n",
    "]\n",
    "\n",
    "batch_size = 100  # Adjust batch size\n",
    "sector_batches = [\n",
    "    sector_data[i:i + batch_size]\n",
    "    for i in range(0, len(sector_data), batch_size)\n",
    "]\n",
    "\n",
    "for batch in tqdm(sector_batches, desc=\"Adding Sector Correlation Relationships\"):\n",
    "    query = \"\"\"\n",
    "    UNWIND $relationships AS rel\n",
    "    MATCH (s1:Sector {name: rel['Sector1']}), (s2:Sector {name: rel['Sector2']})\n",
    "    MERGE (s1)-[:CORRELATES_WITH {correlation: rel['Correlation']}]->(s2)\n",
    "    \"\"\"\n",
    "    graph.query(query, {\"relationships\": batch})"
   ]
  },
  {
   "cell_type": "code",
   "execution_count": null,
   "metadata": {},
   "outputs": [],
   "source": [
    "def update_stock_realtime(ticker):\n",
    "    stock_data = yf.Ticker(ticker).history(period=\"1d\")\n",
    "    if not stock_data.empty:\n",
    "        latest_close = stock_data[\"Close\"].iloc[-1]\n",
    "        query = f\"\"\"\n",
    "        MATCH (s:Stock {{name: '{ticker}'}})\n",
    "        SET s.latestClose = {latest_close}\n",
    "        \"\"\"\n",
    "        graph.query(query)\n",
    "        print(f\"Updated latestClose for {ticker}.\")\n",
    "\n",
    "update_stock_realtime(\"AAPL\")"
   ]
  },
  {
   "cell_type": "code",
   "execution_count": null,
   "metadata": {},
   "outputs": [],
   "source": [
    "query = \"What is the most influential stock in the tech sector?\"\n",
    "response = agent_executor.invoke({\"input\": query})\n",
    "print(response)\n",
    "\n",
    "print(\"Graph construction and integration complete!\")"
   ]
  }
 ],
 "metadata": {
  "kernelspec": {
   "display_name": "venv",
   "language": "python",
   "name": "python3"
  },
  "language_info": {
   "codemirror_mode": {
    "name": "ipython",
    "version": 3
   },
   "file_extension": ".py",
   "mimetype": "text/x-python",
   "name": "python",
   "nbconvert_exporter": "python",
   "pygments_lexer": "ipython3",
   "version": "3.12.4"
  }
 },
 "nbformat": 4,
 "nbformat_minor": 2
}
