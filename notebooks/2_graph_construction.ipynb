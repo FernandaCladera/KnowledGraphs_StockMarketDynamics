{
 "cells": [
  {
   "cell_type": "markdown",
   "metadata": {},
   "source": [
    "# 2. **Knowledge Graph**"
   ]
  },
  {
   "cell_type": "code",
   "execution_count": 75,
   "metadata": {},
   "outputs": [],
   "source": [
    "import pandas as pd\n",
    "from py2neo import Graph, Node, Relationship\n",
    "from tqdm import tqdm"
   ]
  },
  {
   "cell_type": "code",
   "execution_count": 76,
   "metadata": {},
   "outputs": [],
   "source": [
    "NEO4J_URI = \"bolt://localhost:7687\"\n",
    "NEO4J_USER = \"neo4j\"\n",
    "NEO4J_PASSWORD = \"12345678\"\n",
    "graph = Graph(NEO4J_URI, auth=(NEO4J_USER, NEO4J_PASSWORD))"
   ]
  },
  {
   "cell_type": "code",
   "execution_count": 77,
   "metadata": {},
   "outputs": [],
   "source": [
    "stocks_complete = pd.read_csv(\"../data/stocks_completed.csv\")\n",
    "rolling_corr_matrices = pd.read_csv(\"../data/rolling_corr_matrices.csv\")\n",
    "sector_means = pd.read_csv(\"../data/sector_means.csv\")\n",
    "sector_volatility = pd.read_csv(\"../data/sector_volatility.csv\")\n",
    "sector_returns = pd.read_csv(\"../data/sector_returns.csv\")\n",
    "rolling_sector_corr = pd.read_csv(\"../data/rolling_sector_corr.csv\")"
   ]
  },
  {
   "cell_type": "code",
   "execution_count": 78,
   "metadata": {},
   "outputs": [
    {
     "name": "stdout",
     "output_type": "stream",
     "text": [
      "Cleared the Neo4j database.\n"
     ]
    }
   ],
   "source": [
    "graph.run(\"MATCH (n) DETACH DELETE n\")\n",
    "print(\"Cleared the Neo4j database.\")"
   ]
  },
  {
   "cell_type": "code",
   "execution_count": 79,
   "metadata": {},
   "outputs": [
    {
     "data": {
      "text/plain": [
       "Index(['Ticker', 'Name', 'Sector', 'marketCap', 'trailingPE', 'forwardPE',\n",
       "       'priceToBook', 'trailingEps', 'forwardEps', 'bookValue', 'payoutRatio',\n",
       "       'beta', 'fiveYearAvgDividendYield', '52WeekChange', 'averageVolume',\n",
       "       'enterpriseToRevenue', 'profitMargins', 'Close', 'Volume', 'NormClose',\n",
       "       'DailyLogReturn', 'ALR1M', 'ALR3M', 'Volatility', 'RSI', 'MACD',\n",
       "       'HighLowRange'],\n",
       "      dtype='object')"
      ]
     },
     "execution_count": 79,
     "metadata": {},
     "output_type": "execute_result"
    }
   ],
   "source": [
    "stocks_complete.columns"
   ]
  },
  {
   "cell_type": "code",
   "execution_count": 80,
   "metadata": {},
   "outputs": [
    {
     "name": "stderr",
     "output_type": "stream",
     "text": [
      "Adding Sector Nodes: 100%|██████████| 11/11 [00:00<00:00, 34.75it/s]"
     ]
    },
    {
     "name": "stdout",
     "output_type": "stream",
     "text": [
      "Total Sector Nodes: 11\n",
      "Sample Sector Nodes: [{'s.name': 'Information Technology'}, {'s.name': 'Health Care'}, {'s.name': 'Financials'}, {'s.name': 'Real Estate'}, {'s.name': 'Consumer Discretionary'}]\n"
     ]
    },
    {
     "name": "stderr",
     "output_type": "stream",
     "text": [
      "\n"
     ]
    }
   ],
   "source": [
    "sectors = stocks_complete[\"Sector\"].unique()\n",
    "for sector in tqdm(sectors, desc=\"Adding Sector Nodes\"):\n",
    "    sector_node = Node(\"Sector\", name=sector)\n",
    "    graph.merge(sector_node, \"Sector\", \"name\")\n",
    "    \n",
    "sector_nodes_count = graph.run(\"MATCH (s:Sector) RETURN COUNT(s) AS count\").evaluate()\n",
    "print(f\"Total Sector Nodes: {sector_nodes_count}\")\n",
    "\n",
    "sector_nodes = graph.run(\"MATCH (s:Sector) RETURN s.name LIMIT 5\").data()\n",
    "print(\"Sample Sector Nodes:\", sector_nodes)"
   ]
  },
  {
   "cell_type": "code",
   "execution_count": 81,
   "metadata": {},
   "outputs": [
    {
     "name": "stderr",
     "output_type": "stream",
     "text": [
      "Adding Stock Nodes: 119500it [03:13, 617.01it/s]\n"
     ]
    }
   ],
   "source": [
    "for _, row in tqdm(stocks_complete.iterrows(), desc=\"Adding Stock Nodes\"):\n",
    "    stock_node = Node(\n",
    "        \"Stock\",\n",
    "        name=row[\"Ticker\"],\n",
    "        sector=row[\"Sector\"],\n",
    "        marketCap=row[\"marketCap\"],\n",
    "        trailingPE=row[\"trailingPE\"],\n",
    "        forwardPE=row[\"forwardPE\"],\n",
    "        priceToBook=row[\"priceToBook\"],\n",
    "        trailingEps=row[\"trailingEps\"],\n",
    "        forwardEps=row[\"forwardEps\"],\n",
    "        bookValue=row[\"bookValue\"],\n",
    "        payoutRatio=row[\"payoutRatio\"],\n",
    "        beta=row[\"beta\"],\n",
    "        fiveYearAvgDividendYield=row[\"fiveYearAvgDividendYield\"],\n",
    "        weekChange=row[\"52WeekChange\"],\n",
    "        averageVolume=row[\"averageVolume\"],\n",
    "        enterpriseToRevenue=row[\"enterpriseToRevenue\"],\n",
    "        profitMargins=row[\"profitMargins\"]\n",
    "    )\n",
    "    sector_node = graph.nodes.match(\"Sector\", name=row[\"Sector\"]).first()\n",
    "    graph.merge(stock_node, \"Stock\", \"name\")\n",
    "    if sector_node:\n",
    "        belongs_to = Relationship(stock_node, \"BELONGS_TO\", sector_node)\n",
    "        graph.merge(belongs_to)"
   ]
  },
  {
   "cell_type": "code",
   "execution_count": 82,
   "metadata": {},
   "outputs": [
    {
     "data": {
      "text/plain": [
       "Index(['TimeIndex', 'Ticker1', 'Ticker2', 'Correlation'], dtype='object')"
      ]
     },
     "execution_count": 82,
     "metadata": {},
     "output_type": "execute_result"
    }
   ],
   "source": [
    "rolling_corr_matrices.columns"
   ]
  },
  {
   "cell_type": "code",
   "execution_count": 83,
   "metadata": {},
   "outputs": [
    {
     "name": "stderr",
     "output_type": "stream",
     "text": [
      "Preparing Correlation Relationships: 410752it [00:09, 45097.42it/s]\n",
      "Adding Correlation Relationships: 100%|██████████| 410752/410752 [55:29<00:00, 123.37it/s]   "
     ]
    },
    {
     "name": "stdout",
     "output_type": "stream",
     "text": [
      "Graph database successfully updated.\n"
     ]
    },
    {
     "name": "stderr",
     "output_type": "stream",
     "text": [
      "\n"
     ]
    }
   ],
   "source": [
    "rolling_corr_matrices = rolling_corr_matrices[rolling_corr_matrices[\"Correlation\"] > 0.8]\n",
    "stock_nodes = {node[\"name\"]: node for node in graph.nodes.match(\"Stock\")}\n",
    "relationships = []\n",
    "for _, row in tqdm(rolling_corr_matrices.iterrows(), desc=\"Preparing Correlation Relationships\"):\n",
    "    stock1 = stock_nodes.get(row[\"Ticker1\"])\n",
    "    stock2 = stock_nodes.get(row[\"Ticker2\"])\n",
    "    if stock1 and stock2:\n",
    "        relationships.append((stock1, stock2, row[\"Correlation\"]))\n",
    "\n",
    "# Batch Insert Relationships\n",
    "for stock1, stock2, correlation in tqdm(relationships, desc=\"Adding Correlation Relationships\"):\n",
    "    relates_to = Relationship(stock1, \"CORRELATES_WITH\", stock2, correlation=correlation)\n",
    "    graph.merge(relates_to)\n",
    "\n",
    "print(\"Graph database successfully updated.\")\n"
   ]
  },
  {
   "cell_type": "code",
   "execution_count": 84,
   "metadata": {},
   "outputs": [
    {
     "name": "stderr",
     "output_type": "stream",
     "text": [
      "Adding Sector Correlation Relationships: 126060it [19:45, 106.37it/s]"
     ]
    },
    {
     "name": "stdout",
     "output_type": "stream",
     "text": [
      "Graph creation complete!\n"
     ]
    },
    {
     "name": "stderr",
     "output_type": "stream",
     "text": [
      "\n"
     ]
    }
   ],
   "source": [
    "for _, row in tqdm(rolling_sector_corr.iterrows(), desc=\"Adding Sector Correlation Relationships\"):\n",
    "    sector1 = graph.nodes.match(\"Sector\", name=row[\"Sector1\"]).first()\n",
    "    sector2 = graph.nodes.match(\"Sector\", name=row[\"Sector2\"]).first()\n",
    "    if sector1 and sector2:\n",
    "        correlates_with = Relationship(sector1, \"CORRELATES_WITH\", sector2, correlation=row[\"Correlation\"])\n",
    "        graph.merge(correlates_with)\n",
    "\n",
    "print(\"Graph creation complete!\")"
   ]
  }
 ],
 "metadata": {
  "kernelspec": {
   "display_name": "venv",
   "language": "python",
   "name": "python3"
  },
  "language_info": {
   "codemirror_mode": {
    "name": "ipython",
    "version": 3
   },
   "file_extension": ".py",
   "mimetype": "text/x-python",
   "name": "python",
   "nbconvert_exporter": "python",
   "pygments_lexer": "ipython3",
   "version": "3.12.4"
  }
 },
 "nbformat": 4,
 "nbformat_minor": 2
}
